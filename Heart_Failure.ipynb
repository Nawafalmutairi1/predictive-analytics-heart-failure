{
 "cells": [
  {
   "cell_type": "markdown",
   "id": "50a80ff4",
   "metadata": {},
   "source": [
    "### Import Libares"
   ]
  },
  {
   "cell_type": "code",
   "execution_count": 5,
   "id": "ee63d275",
   "metadata": {},
   "outputs": [],
   "source": [
    "import pandas as pd\n",
    "import numpy as np\n",
    "from scipy import stats\n",
    "import matplotlib.pyplot as plt\n",
    "import seaborn as sns\n",
    "import pandas as pd\n"
   ]
  },
  {
   "cell_type": "markdown",
   "id": "d91f9ba3",
   "metadata": {},
   "source": [
    "### Read The Data"
   ]
  },
  {
   "cell_type": "code",
   "execution_count": 4,
   "id": "1caab7d0",
   "metadata": {
    "scrolled": true
   },
   "outputs": [
    {
     "data": {
      "text/html": [
       "<div>\n",
       "<style scoped>\n",
       "    .dataframe tbody tr th:only-of-type {\n",
       "        vertical-align: middle;\n",
       "    }\n",
       "\n",
       "    .dataframe tbody tr th {\n",
       "        vertical-align: top;\n",
       "    }\n",
       "\n",
       "    .dataframe thead th {\n",
       "        text-align: right;\n",
       "    }\n",
       "</style>\n",
       "<table border=\"1\" class=\"dataframe\">\n",
       "  <thead>\n",
       "    <tr style=\"text-align: right;\">\n",
       "      <th></th>\n",
       "      <th>Age</th>\n",
       "      <th>Sex</th>\n",
       "      <th>ChestPainType</th>\n",
       "      <th>RestingBP</th>\n",
       "      <th>Cholesterol</th>\n",
       "      <th>FastingBS</th>\n",
       "      <th>RestingECG</th>\n",
       "      <th>MaxHR</th>\n",
       "      <th>ExerciseAngina</th>\n",
       "      <th>Oldpeak</th>\n",
       "      <th>ST_Slope</th>\n",
       "      <th>HeartDisease</th>\n",
       "    </tr>\n",
       "  </thead>\n",
       "  <tbody>\n",
       "    <tr>\n",
       "      <th>203</th>\n",
       "      <td>31</td>\n",
       "      <td>F</td>\n",
       "      <td>ATA</td>\n",
       "      <td>100</td>\n",
       "      <td>219</td>\n",
       "      <td>0</td>\n",
       "      <td>ST</td>\n",
       "      <td>150</td>\n",
       "      <td>N</td>\n",
       "      <td>0.0</td>\n",
       "      <td>Up</td>\n",
       "      <td>0</td>\n",
       "    </tr>\n",
       "    <tr>\n",
       "      <th>857</th>\n",
       "      <td>53</td>\n",
       "      <td>F</td>\n",
       "      <td>ASY</td>\n",
       "      <td>130</td>\n",
       "      <td>264</td>\n",
       "      <td>0</td>\n",
       "      <td>LVH</td>\n",
       "      <td>143</td>\n",
       "      <td>N</td>\n",
       "      <td>0.4</td>\n",
       "      <td>Flat</td>\n",
       "      <td>0</td>\n",
       "    </tr>\n",
       "    <tr>\n",
       "      <th>256</th>\n",
       "      <td>55</td>\n",
       "      <td>F</td>\n",
       "      <td>ATA</td>\n",
       "      <td>130</td>\n",
       "      <td>394</td>\n",
       "      <td>0</td>\n",
       "      <td>LVH</td>\n",
       "      <td>150</td>\n",
       "      <td>N</td>\n",
       "      <td>0.0</td>\n",
       "      <td>Up</td>\n",
       "      <td>0</td>\n",
       "    </tr>\n",
       "    <tr>\n",
       "      <th>703</th>\n",
       "      <td>41</td>\n",
       "      <td>F</td>\n",
       "      <td>ATA</td>\n",
       "      <td>126</td>\n",
       "      <td>306</td>\n",
       "      <td>0</td>\n",
       "      <td>Normal</td>\n",
       "      <td>163</td>\n",
       "      <td>N</td>\n",
       "      <td>0.0</td>\n",
       "      <td>Up</td>\n",
       "      <td>0</td>\n",
       "    </tr>\n",
       "    <tr>\n",
       "      <th>206</th>\n",
       "      <td>35</td>\n",
       "      <td>M</td>\n",
       "      <td>ATA</td>\n",
       "      <td>120</td>\n",
       "      <td>308</td>\n",
       "      <td>0</td>\n",
       "      <td>LVH</td>\n",
       "      <td>180</td>\n",
       "      <td>N</td>\n",
       "      <td>0.0</td>\n",
       "      <td>Up</td>\n",
       "      <td>0</td>\n",
       "    </tr>\n",
       "    <tr>\n",
       "      <th>594</th>\n",
       "      <td>58</td>\n",
       "      <td>M</td>\n",
       "      <td>ASY</td>\n",
       "      <td>160</td>\n",
       "      <td>256</td>\n",
       "      <td>1</td>\n",
       "      <td>LVH</td>\n",
       "      <td>113</td>\n",
       "      <td>Y</td>\n",
       "      <td>1.0</td>\n",
       "      <td>Up</td>\n",
       "      <td>1</td>\n",
       "    </tr>\n",
       "    <tr>\n",
       "      <th>670</th>\n",
       "      <td>41</td>\n",
       "      <td>F</td>\n",
       "      <td>ATA</td>\n",
       "      <td>105</td>\n",
       "      <td>198</td>\n",
       "      <td>0</td>\n",
       "      <td>Normal</td>\n",
       "      <td>168</td>\n",
       "      <td>N</td>\n",
       "      <td>0.0</td>\n",
       "      <td>Up</td>\n",
       "      <td>0</td>\n",
       "    </tr>\n",
       "    <tr>\n",
       "      <th>442</th>\n",
       "      <td>51</td>\n",
       "      <td>M</td>\n",
       "      <td>ASY</td>\n",
       "      <td>128</td>\n",
       "      <td>0</td>\n",
       "      <td>1</td>\n",
       "      <td>ST</td>\n",
       "      <td>125</td>\n",
       "      <td>Y</td>\n",
       "      <td>1.2</td>\n",
       "      <td>Flat</td>\n",
       "      <td>1</td>\n",
       "    </tr>\n",
       "    <tr>\n",
       "      <th>697</th>\n",
       "      <td>58</td>\n",
       "      <td>M</td>\n",
       "      <td>ASY</td>\n",
       "      <td>150</td>\n",
       "      <td>270</td>\n",
       "      <td>0</td>\n",
       "      <td>LVH</td>\n",
       "      <td>111</td>\n",
       "      <td>Y</td>\n",
       "      <td>0.8</td>\n",
       "      <td>Up</td>\n",
       "      <td>1</td>\n",
       "    </tr>\n",
       "    <tr>\n",
       "      <th>122</th>\n",
       "      <td>46</td>\n",
       "      <td>M</td>\n",
       "      <td>ASY</td>\n",
       "      <td>110</td>\n",
       "      <td>240</td>\n",
       "      <td>0</td>\n",
       "      <td>ST</td>\n",
       "      <td>140</td>\n",
       "      <td>N</td>\n",
       "      <td>0.0</td>\n",
       "      <td>Up</td>\n",
       "      <td>0</td>\n",
       "    </tr>\n",
       "    <tr>\n",
       "      <th>751</th>\n",
       "      <td>67</td>\n",
       "      <td>F</td>\n",
       "      <td>NAP</td>\n",
       "      <td>152</td>\n",
       "      <td>277</td>\n",
       "      <td>0</td>\n",
       "      <td>Normal</td>\n",
       "      <td>172</td>\n",
       "      <td>N</td>\n",
       "      <td>0.0</td>\n",
       "      <td>Up</td>\n",
       "      <td>0</td>\n",
       "    </tr>\n",
       "    <tr>\n",
       "      <th>99</th>\n",
       "      <td>41</td>\n",
       "      <td>M</td>\n",
       "      <td>ATA</td>\n",
       "      <td>125</td>\n",
       "      <td>269</td>\n",
       "      <td>0</td>\n",
       "      <td>Normal</td>\n",
       "      <td>144</td>\n",
       "      <td>N</td>\n",
       "      <td>0.0</td>\n",
       "      <td>Up</td>\n",
       "      <td>0</td>\n",
       "    </tr>\n",
       "    <tr>\n",
       "      <th>110</th>\n",
       "      <td>59</td>\n",
       "      <td>F</td>\n",
       "      <td>ATA</td>\n",
       "      <td>130</td>\n",
       "      <td>188</td>\n",
       "      <td>0</td>\n",
       "      <td>Normal</td>\n",
       "      <td>124</td>\n",
       "      <td>N</td>\n",
       "      <td>1.0</td>\n",
       "      <td>Flat</td>\n",
       "      <td>0</td>\n",
       "    </tr>\n",
       "    <tr>\n",
       "      <th>462</th>\n",
       "      <td>59</td>\n",
       "      <td>M</td>\n",
       "      <td>ASY</td>\n",
       "      <td>122</td>\n",
       "      <td>233</td>\n",
       "      <td>0</td>\n",
       "      <td>Normal</td>\n",
       "      <td>117</td>\n",
       "      <td>Y</td>\n",
       "      <td>1.3</td>\n",
       "      <td>Down</td>\n",
       "      <td>1</td>\n",
       "    </tr>\n",
       "    <tr>\n",
       "      <th>891</th>\n",
       "      <td>66</td>\n",
       "      <td>F</td>\n",
       "      <td>NAP</td>\n",
       "      <td>146</td>\n",
       "      <td>278</td>\n",
       "      <td>0</td>\n",
       "      <td>LVH</td>\n",
       "      <td>152</td>\n",
       "      <td>N</td>\n",
       "      <td>0.0</td>\n",
       "      <td>Flat</td>\n",
       "      <td>0</td>\n",
       "    </tr>\n",
       "    <tr>\n",
       "      <th>675</th>\n",
       "      <td>57</td>\n",
       "      <td>M</td>\n",
       "      <td>NAP</td>\n",
       "      <td>150</td>\n",
       "      <td>126</td>\n",
       "      <td>1</td>\n",
       "      <td>Normal</td>\n",
       "      <td>173</td>\n",
       "      <td>N</td>\n",
       "      <td>0.2</td>\n",
       "      <td>Up</td>\n",
       "      <td>0</td>\n",
       "    </tr>\n",
       "    <tr>\n",
       "      <th>560</th>\n",
       "      <td>54</td>\n",
       "      <td>M</td>\n",
       "      <td>NAP</td>\n",
       "      <td>133</td>\n",
       "      <td>203</td>\n",
       "      <td>0</td>\n",
       "      <td>ST</td>\n",
       "      <td>137</td>\n",
       "      <td>N</td>\n",
       "      <td>0.2</td>\n",
       "      <td>Up</td>\n",
       "      <td>0</td>\n",
       "    </tr>\n",
       "    <tr>\n",
       "      <th>730</th>\n",
       "      <td>49</td>\n",
       "      <td>F</td>\n",
       "      <td>ATA</td>\n",
       "      <td>134</td>\n",
       "      <td>271</td>\n",
       "      <td>0</td>\n",
       "      <td>Normal</td>\n",
       "      <td>162</td>\n",
       "      <td>N</td>\n",
       "      <td>0.0</td>\n",
       "      <td>Flat</td>\n",
       "      <td>0</td>\n",
       "    </tr>\n",
       "    <tr>\n",
       "      <th>427</th>\n",
       "      <td>59</td>\n",
       "      <td>M</td>\n",
       "      <td>ASY</td>\n",
       "      <td>140</td>\n",
       "      <td>0</td>\n",
       "      <td>0</td>\n",
       "      <td>ST</td>\n",
       "      <td>117</td>\n",
       "      <td>Y</td>\n",
       "      <td>1.0</td>\n",
       "      <td>Flat</td>\n",
       "      <td>1</td>\n",
       "    </tr>\n",
       "    <tr>\n",
       "      <th>535</th>\n",
       "      <td>56</td>\n",
       "      <td>M</td>\n",
       "      <td>ASY</td>\n",
       "      <td>130</td>\n",
       "      <td>0</td>\n",
       "      <td>0</td>\n",
       "      <td>LVH</td>\n",
       "      <td>122</td>\n",
       "      <td>Y</td>\n",
       "      <td>1.0</td>\n",
       "      <td>Flat</td>\n",
       "      <td>1</td>\n",
       "    </tr>\n",
       "  </tbody>\n",
       "</table>\n",
       "</div>"
      ],
      "text/plain": [
       "     Age Sex ChestPainType  RestingBP  Cholesterol  FastingBS RestingECG  \\\n",
       "203   31   F           ATA        100          219          0         ST   \n",
       "857   53   F           ASY        130          264          0        LVH   \n",
       "256   55   F           ATA        130          394          0        LVH   \n",
       "703   41   F           ATA        126          306          0     Normal   \n",
       "206   35   M           ATA        120          308          0        LVH   \n",
       "594   58   M           ASY        160          256          1        LVH   \n",
       "670   41   F           ATA        105          198          0     Normal   \n",
       "442   51   M           ASY        128            0          1         ST   \n",
       "697   58   M           ASY        150          270          0        LVH   \n",
       "122   46   M           ASY        110          240          0         ST   \n",
       "751   67   F           NAP        152          277          0     Normal   \n",
       "99    41   M           ATA        125          269          0     Normal   \n",
       "110   59   F           ATA        130          188          0     Normal   \n",
       "462   59   M           ASY        122          233          0     Normal   \n",
       "891   66   F           NAP        146          278          0        LVH   \n",
       "675   57   M           NAP        150          126          1     Normal   \n",
       "560   54   M           NAP        133          203          0         ST   \n",
       "730   49   F           ATA        134          271          0     Normal   \n",
       "427   59   M           ASY        140            0          0         ST   \n",
       "535   56   M           ASY        130            0          0        LVH   \n",
       "\n",
       "     MaxHR ExerciseAngina  Oldpeak ST_Slope  HeartDisease  \n",
       "203    150              N      0.0       Up             0  \n",
       "857    143              N      0.4     Flat             0  \n",
       "256    150              N      0.0       Up             0  \n",
       "703    163              N      0.0       Up             0  \n",
       "206    180              N      0.0       Up             0  \n",
       "594    113              Y      1.0       Up             1  \n",
       "670    168              N      0.0       Up             0  \n",
       "442    125              Y      1.2     Flat             1  \n",
       "697    111              Y      0.8       Up             1  \n",
       "122    140              N      0.0       Up             0  \n",
       "751    172              N      0.0       Up             0  \n",
       "99     144              N      0.0       Up             0  \n",
       "110    124              N      1.0     Flat             0  \n",
       "462    117              Y      1.3     Down             1  \n",
       "891    152              N      0.0     Flat             0  \n",
       "675    173              N      0.2       Up             0  \n",
       "560    137              N      0.2       Up             0  \n",
       "730    162              N      0.0     Flat             0  \n",
       "427    117              Y      1.0     Flat             1  \n",
       "535    122              Y      1.0     Flat             1  "
      ]
     },
     "execution_count": 4,
     "metadata": {},
     "output_type": "execute_result"
    }
   ],
   "source": [
    "df = pd.read_csv(\"heart_NEW.csv\")\n",
    "\n",
    "df.sample(20)"
   ]
  },
  {
   "cell_type": "markdown",
   "id": "f4da8285",
   "metadata": {},
   "source": [
    "### Visualization The Data to Provide Information"
   ]
  },
  {
   "cell_type": "code",
   "execution_count": 6,
   "id": "1f25db52",
   "metadata": {},
   "outputs": [
    {
     "data": {
      "image/png": "[encoded data removed]",
      "text/plain": [
       "<Figure size 432x288 with 1 Axes>"
      ]
     },
     "metadata": {},
     "output_type": "display_data"
    }
   ],
   "source": [
    "\n",
    "names = ['Resting BP', 'Chest Pain Type', 'Cholesterol', 'Exercise Angina']\n",
    "size = [20,20,20,20]\n",
    " \n",
    "my_circle = plt.Circle( (0,0), 0.7, color='white')\n",
    "\n",
    "plt.pie(size, labels=names, colors=['red','green','blue','skyblue'])\n",
    "p = plt.gcf()\n",
    "p.gca().add_artist(my_circle)\n",
    "plt.savefig('All.png',dpi=150)\n",
    "plt.show()"
   ]
  },
  {
   "cell_type": "code",
   "execution_count": 313,
   "id": "35c9e834",
   "metadata": {},
   "outputs": [
    {
     "data": {
      "image/png": "[encoded data removed]",
      "text/plain": [
       "<Figure size 432x288 with 2 Axes>"
      ]
     },
     "metadata": {},
     "output_type": "display_data"
    }
   ],
   "source": [
    "sns.heatmap(df.corr());\n"
   ]
  },
  {
   "cell_type": "code",
   "execution_count": 7,
   "id": "b809a7c2",
   "metadata": {},
   "outputs": [
    {
     "data": {
      "image/png": "[encoded data removed]",
      "text/plain": [
       "<Figure size 432x1440 with 1 Axes>"
      ]
     },
     "metadata": {},
     "output_type": "display_data"
    }
   ],
   "source": [
    "type_counts = df['Sex'].value_counts()\n",
    "df1 = pd.DataFrame({'Sex': type_counts})\n",
    "df1.plot.pie(y='Sex', figsize=(6,20), autopct='%1.1f%%')\n",
    "plt.yticks(rotation=90)\n",
    "plt.savefig('Sex.png',dpi=150)"
   ]
  },
  {
   "cell_type": "code",
   "execution_count": 8,
   "id": "093a7a2d",
   "metadata": {},
   "outputs": [
    {
     "data": {
      "image/png": "[encoded data removed]",
      "text/plain": [
       "<Figure size 360x360 with 1 Axes>"
      ]
     },
     "metadata": {},
     "output_type": "display_data"
    }
   ],
   "source": [
    "type_counts = df['HeartDisease'].value_counts()\n",
    "df1 = pd.DataFrame({'HeartDisease': type_counts})\n",
    "df1.plot.pie(y='HeartDisease', figsize=(5,5), autopct='%1.1f%%');"
   ]
  },
  {
   "cell_type": "code",
   "execution_count": 9,
   "id": "438e52e7",
   "metadata": {},
   "outputs": [
    {
     "name": "stdout",
     "output_type": "stream",
     "text": [
      "Age - HeartDisease\n",
      "\n"
     ]
    },
    {
     "data": {
      "image/png": "[encoded data removed]",
      "text/plain": [
       "<Figure size 432x288 with 1 Axes>"
      ]
     },
     "metadata": {
      "needs_background": "light"
     },
     "output_type": "display_data"
    }
   ],
   "source": [
    "#Age - HeartDisease\n",
    "print('Age - HeartDisease')\n",
    "Age_df = pd.DataFrame(df['HeartDisease'].groupby(df['Age']).count())\n",
    "plt.title('Age-HeartDisease')\n",
    "plt.bar(Age_df.index, Age_df['HeartDisease'])\n",
    "plt.xlabel('Age')\n",
    "plt.ylabel('Number of patient Heart Disease')\n",
    "#plt.show()\n",
    "plt.savefig('Age-HeartDisease.png',dpi=150)\n",
    "print()"
   ]
  },
  {
   "cell_type": "markdown",
   "id": "33b9d322",
   "metadata": {},
   "source": [
    "### Cholesterol"
   ]
  },
  {
   "cell_type": "code",
   "execution_count": 314,
   "id": "40ea9ae0",
   "metadata": {},
   "outputs": [
    {
     "data": {
      "image/png": "[encoded data removed]",
      "text/plain": [
       "<Figure size 432x288 with 1 Axes>"
      ]
     },
     "metadata": {},
     "output_type": "display_data"
    }
   ],
   "source": [
    "sns.histplot(df['Cholesterol'], kde=False,bins=20, stat='frequency');\n",
    "plt.savefig('ch.png',dpi=150)"
   ]
  },
  {
   "cell_type": "code",
   "execution_count": 316,
   "id": "532aa64f",
   "metadata": {},
   "outputs": [
    {
     "data": {
      "text/plain": [
       "count    999.000000\n",
       "mean     203.497497\n",
       "std      106.915273\n",
       "min        0.000000\n",
       "25%      179.500000\n",
       "50%      225.000000\n",
       "75%      269.000000\n",
       "max      603.000000\n",
       "Name: Cholesterol, dtype: float64"
      ]
     },
     "execution_count": 316,
     "metadata": {},
     "output_type": "execute_result"
    }
   ],
   "source": [
    "df['Cholesterol'].describe()"
   ]
  },
  {
   "cell_type": "code",
   "execution_count": 317,
   "id": "0b7a4b05",
   "metadata": {},
   "outputs": [
    {
     "data": {
      "text/plain": [
       "203.4974974974975"
      ]
     },
     "execution_count": 317,
     "metadata": {},
     "output_type": "execute_result"
    }
   ],
   "source": [
    "df.Cholesterol.mean()"
   ]
  },
  {
   "cell_type": "code",
   "execution_count": 318,
   "id": "01341457",
   "metadata": {},
   "outputs": [],
   "source": [
    " df['Cholesterol'] = df['Cholesterol'].replace(0, 203.4974974974975)"
   ]
  },
  {
   "cell_type": "code",
   "execution_count": 319,
   "id": "a815edd2",
   "metadata": {},
   "outputs": [
    {
     "data": {
      "image/png": "[encoded data removed]",
      "text/plain": [
       "<Figure size 432x288 with 1 Axes>"
      ]
     },
     "metadata": {},
     "output_type": "display_data"
    }
   ],
   "source": [
    "sns.histplot(df['Cholesterol'], kde=False,bins=20, stat='frequency');\n",
    "plt.savefig('chnew.png',dpi=150)"
   ]
  },
  {
   "cell_type": "markdown",
   "id": "a1ffd5fa",
   "metadata": {},
   "source": [
    "###  Add New Column Which Is Cholesterol_type"
   ]
  },
  {
   "cell_type": "code",
   "execution_count": 320,
   "id": "3fd43073",
   "metadata": {},
   "outputs": [],
   "source": [
    "conditions = [\n",
    "    (df['Cholesterol'] >= 0) & (df['Cholesterol']<= 99),\n",
    "    (df['Cholesterol'] >= 100) & (df['Cholesterol']<= 129),\n",
    "    (df['Cholesterol'] >= 130) & (df['Cholesterol'] <= 159),\n",
    "    (df['Cholesterol'] >= 160 ) & (df['Cholesterol'] <= 189),\n",
    "    (df['Cholesterol'] >= 190 ) & (df['Cholesterol'] <= 650),\n",
    "    ]\n",
    "\n",
    "values = ['under normal','normal', 'above normal', 'high', 'very high']\n",
    "\n",
    "df['Cholesterol_type'] = np.select(conditions, values)"
   ]
  },
  {
   "cell_type": "code",
   "execution_count": 321,
   "id": "bf95e805",
   "metadata": {
    "scrolled": false
   },
   "outputs": [
    {
     "data": {
      "text/html": [
       "<div>\n",
       "<style scoped>\n",
       "    .dataframe tbody tr th:only-of-type {\n",
       "        vertical-align: middle;\n",
       "    }\n",
       "\n",
       "    .dataframe tbody tr th {\n",
       "        vertical-align: top;\n",
       "    }\n",
       "\n",
       "    .dataframe thead th {\n",
       "        text-align: right;\n",
       "    }\n",
       "</style>\n",
       "<table border=\"1\" class=\"dataframe\">\n",
       "  <thead>\n",
       "    <tr style=\"text-align: right;\">\n",
       "      <th></th>\n",
       "      <th>Age</th>\n",
       "      <th>Sex</th>\n",
       "      <th>ChestPainType</th>\n",
       "      <th>RestingBP</th>\n",
       "      <th>Cholesterol</th>\n",
       "      <th>FastingBS</th>\n",
       "      <th>RestingECG</th>\n",
       "      <th>MaxHR</th>\n",
       "      <th>ExerciseAngina</th>\n",
       "      <th>Oldpeak</th>\n",
       "      <th>ST_Slope</th>\n",
       "      <th>HeartDisease</th>\n",
       "      <th>Cholesterol_type</th>\n",
       "    </tr>\n",
       "  </thead>\n",
       "  <tbody>\n",
       "    <tr>\n",
       "      <th>0</th>\n",
       "      <td>40</td>\n",
       "      <td>M</td>\n",
       "      <td>ATA</td>\n",
       "      <td>140</td>\n",
       "      <td>289.0</td>\n",
       "      <td>0</td>\n",
       "      <td>Normal</td>\n",
       "      <td>172</td>\n",
       "      <td>N</td>\n",
       "      <td>0.0</td>\n",
       "      <td>Up</td>\n",
       "      <td>0</td>\n",
       "      <td>very high</td>\n",
       "    </tr>\n",
       "    <tr>\n",
       "      <th>1</th>\n",
       "      <td>49</td>\n",
       "      <td>F</td>\n",
       "      <td>NAP</td>\n",
       "      <td>160</td>\n",
       "      <td>180.0</td>\n",
       "      <td>0</td>\n",
       "      <td>Normal</td>\n",
       "      <td>156</td>\n",
       "      <td>N</td>\n",
       "      <td>1.0</td>\n",
       "      <td>Flat</td>\n",
       "      <td>1</td>\n",
       "      <td>high</td>\n",
       "    </tr>\n",
       "    <tr>\n",
       "      <th>2</th>\n",
       "      <td>37</td>\n",
       "      <td>M</td>\n",
       "      <td>ATA</td>\n",
       "      <td>130</td>\n",
       "      <td>283.0</td>\n",
       "      <td>0</td>\n",
       "      <td>ST</td>\n",
       "      <td>98</td>\n",
       "      <td>N</td>\n",
       "      <td>0.0</td>\n",
       "      <td>Up</td>\n",
       "      <td>0</td>\n",
       "      <td>very high</td>\n",
       "    </tr>\n",
       "    <tr>\n",
       "      <th>3</th>\n",
       "      <td>48</td>\n",
       "      <td>F</td>\n",
       "      <td>ASY</td>\n",
       "      <td>138</td>\n",
       "      <td>214.0</td>\n",
       "      <td>0</td>\n",
       "      <td>Normal</td>\n",
       "      <td>108</td>\n",
       "      <td>Y</td>\n",
       "      <td>1.5</td>\n",
       "      <td>Flat</td>\n",
       "      <td>1</td>\n",
       "      <td>very high</td>\n",
       "    </tr>\n",
       "    <tr>\n",
       "      <th>4</th>\n",
       "      <td>54</td>\n",
       "      <td>M</td>\n",
       "      <td>NAP</td>\n",
       "      <td>150</td>\n",
       "      <td>195.0</td>\n",
       "      <td>0</td>\n",
       "      <td>Normal</td>\n",
       "      <td>122</td>\n",
       "      <td>N</td>\n",
       "      <td>0.0</td>\n",
       "      <td>Up</td>\n",
       "      <td>0</td>\n",
       "      <td>very high</td>\n",
       "    </tr>\n",
       "  </tbody>\n",
       "</table>\n",
       "</div>"
      ],
      "text/plain": [
       "   Age Sex ChestPainType  RestingBP  Cholesterol  FastingBS RestingECG  MaxHR  \\\n",
       "0   40   M           ATA        140        289.0          0     Normal    172   \n",
       "1   49   F           NAP        160        180.0          0     Normal    156   \n",
       "2   37   M           ATA        130        283.0          0         ST     98   \n",
       "3   48   F           ASY        138        214.0          0     Normal    108   \n",
       "4   54   M           NAP        150        195.0          0     Normal    122   \n",
       "\n",
       "  ExerciseAngina  Oldpeak ST_Slope  HeartDisease Cholesterol_type  \n",
       "0              N      0.0       Up             0        very high  \n",
       "1              N      1.0     Flat             1             high  \n",
       "2              N      0.0       Up             0        very high  \n",
       "3              Y      1.5     Flat             1        very high  \n",
       "4              N      0.0       Up             0        very high  "
      ]
     },
     "execution_count": 321,
     "metadata": {},
     "output_type": "execute_result"
    }
   ],
   "source": [
    "df.head()"
   ]
  },
  {
   "cell_type": "code",
   "execution_count": 322,
   "id": "4ec1a4a8",
   "metadata": {
    "scrolled": true
   },
   "outputs": [
    {
     "data": {
      "text/html": [
       "<div>\n",
       "<style scoped>\n",
       "    .dataframe tbody tr th:only-of-type {\n",
       "        vertical-align: middle;\n",
       "    }\n",
       "\n",
       "    .dataframe tbody tr th {\n",
       "        vertical-align: top;\n",
       "    }\n",
       "\n",
       "    .dataframe thead th {\n",
       "        text-align: right;\n",
       "    }\n",
       "</style>\n",
       "<table border=\"1\" class=\"dataframe\">\n",
       "  <thead>\n",
       "    <tr style=\"text-align: right;\">\n",
       "      <th></th>\n",
       "      <th>Age</th>\n",
       "      <th>Sex</th>\n",
       "      <th>ChestPainType</th>\n",
       "      <th>RestingBP</th>\n",
       "      <th>Cholesterol</th>\n",
       "      <th>FastingBS</th>\n",
       "      <th>RestingECG</th>\n",
       "      <th>MaxHR</th>\n",
       "      <th>ExerciseAngina</th>\n",
       "      <th>Oldpeak</th>\n",
       "      <th>ST_Slope</th>\n",
       "      <th>HeartDisease</th>\n",
       "      <th>Cholesterol_type</th>\n",
       "    </tr>\n",
       "  </thead>\n",
       "  <tbody>\n",
       "    <tr>\n",
       "      <th>count</th>\n",
       "      <td>999.000000</td>\n",
       "      <td>999</td>\n",
       "      <td>999</td>\n",
       "      <td>999.000000</td>\n",
       "      <td>999.000000</td>\n",
       "      <td>999.000000</td>\n",
       "      <td>999</td>\n",
       "      <td>999.000000</td>\n",
       "      <td>999</td>\n",
       "      <td>999.000000</td>\n",
       "      <td>999</td>\n",
       "      <td>999.000000</td>\n",
       "      <td>999</td>\n",
       "    </tr>\n",
       "    <tr>\n",
       "      <th>unique</th>\n",
       "      <td>NaN</td>\n",
       "      <td>2</td>\n",
       "      <td>4</td>\n",
       "      <td>NaN</td>\n",
       "      <td>NaN</td>\n",
       "      <td>NaN</td>\n",
       "      <td>3</td>\n",
       "      <td>NaN</td>\n",
       "      <td>2</td>\n",
       "      <td>NaN</td>\n",
       "      <td>3</td>\n",
       "      <td>NaN</td>\n",
       "      <td>5</td>\n",
       "    </tr>\n",
       "    <tr>\n",
       "      <th>top</th>\n",
       "      <td>NaN</td>\n",
       "      <td>M</td>\n",
       "      <td>ASY</td>\n",
       "      <td>NaN</td>\n",
       "      <td>NaN</td>\n",
       "      <td>NaN</td>\n",
       "      <td>Normal</td>\n",
       "      <td>NaN</td>\n",
       "      <td>N</td>\n",
       "      <td>NaN</td>\n",
       "      <td>Flat</td>\n",
       "      <td>NaN</td>\n",
       "      <td>very high</td>\n",
       "    </tr>\n",
       "    <tr>\n",
       "      <th>freq</th>\n",
       "      <td>NaN</td>\n",
       "      <td>753</td>\n",
       "      <td>526</td>\n",
       "      <td>NaN</td>\n",
       "      <td>NaN</td>\n",
       "      <td>NaN</td>\n",
       "      <td>591</td>\n",
       "      <td>NaN</td>\n",
       "      <td>604</td>\n",
       "      <td>NaN</td>\n",
       "      <td>496</td>\n",
       "      <td>NaN</td>\n",
       "      <td>886</td>\n",
       "    </tr>\n",
       "    <tr>\n",
       "      <th>mean</th>\n",
       "      <td>54.402402</td>\n",
       "      <td>NaN</td>\n",
       "      <td>NaN</td>\n",
       "      <td>132.408408</td>\n",
       "      <td>238.534104</td>\n",
       "      <td>0.225225</td>\n",
       "      <td>NaN</td>\n",
       "      <td>138.104104</td>\n",
       "      <td>NaN</td>\n",
       "      <td>0.910711</td>\n",
       "      <td>NaN</td>\n",
       "      <td>0.542543</td>\n",
       "      <td>NaN</td>\n",
       "    </tr>\n",
       "    <tr>\n",
       "      <th>std</th>\n",
       "      <td>10.277816</td>\n",
       "      <td>NaN</td>\n",
       "      <td>NaN</td>\n",
       "      <td>17.866051</td>\n",
       "      <td>55.363127</td>\n",
       "      <td>0.417940</td>\n",
       "      <td>NaN</td>\n",
       "      <td>25.474911</td>\n",
       "      <td>NaN</td>\n",
       "      <td>1.076659</td>\n",
       "      <td>NaN</td>\n",
       "      <td>0.498436</td>\n",
       "      <td>NaN</td>\n",
       "    </tr>\n",
       "    <tr>\n",
       "      <th>min</th>\n",
       "      <td>28.000000</td>\n",
       "      <td>NaN</td>\n",
       "      <td>NaN</td>\n",
       "      <td>80.000000</td>\n",
       "      <td>85.000000</td>\n",
       "      <td>0.000000</td>\n",
       "      <td>NaN</td>\n",
       "      <td>60.000000</td>\n",
       "      <td>NaN</td>\n",
       "      <td>-2.600000</td>\n",
       "      <td>NaN</td>\n",
       "      <td>0.000000</td>\n",
       "      <td>NaN</td>\n",
       "    </tr>\n",
       "    <tr>\n",
       "      <th>25%</th>\n",
       "      <td>48.000000</td>\n",
       "      <td>NaN</td>\n",
       "      <td>NaN</td>\n",
       "      <td>120.000000</td>\n",
       "      <td>203.497497</td>\n",
       "      <td>0.000000</td>\n",
       "      <td>NaN</td>\n",
       "      <td>120.000000</td>\n",
       "      <td>NaN</td>\n",
       "      <td>0.000000</td>\n",
       "      <td>NaN</td>\n",
       "      <td>0.000000</td>\n",
       "      <td>NaN</td>\n",
       "    </tr>\n",
       "    <tr>\n",
       "      <th>50%</th>\n",
       "      <td>55.000000</td>\n",
       "      <td>NaN</td>\n",
       "      <td>NaN</td>\n",
       "      <td>130.000000</td>\n",
       "      <td>225.000000</td>\n",
       "      <td>0.000000</td>\n",
       "      <td>NaN</td>\n",
       "      <td>140.000000</td>\n",
       "      <td>NaN</td>\n",
       "      <td>0.600000</td>\n",
       "      <td>NaN</td>\n",
       "      <td>1.000000</td>\n",
       "      <td>NaN</td>\n",
       "    </tr>\n",
       "    <tr>\n",
       "      <th>75%</th>\n",
       "      <td>61.000000</td>\n",
       "      <td>NaN</td>\n",
       "      <td>NaN</td>\n",
       "      <td>140.000000</td>\n",
       "      <td>269.000000</td>\n",
       "      <td>0.000000</td>\n",
       "      <td>NaN</td>\n",
       "      <td>158.000000</td>\n",
       "      <td>NaN</td>\n",
       "      <td>1.500000</td>\n",
       "      <td>NaN</td>\n",
       "      <td>1.000000</td>\n",
       "      <td>NaN</td>\n",
       "    </tr>\n",
       "    <tr>\n",
       "      <th>max</th>\n",
       "      <td>95.000000</td>\n",
       "      <td>NaN</td>\n",
       "      <td>NaN</td>\n",
       "      <td>200.000000</td>\n",
       "      <td>603.000000</td>\n",
       "      <td>1.000000</td>\n",
       "      <td>NaN</td>\n",
       "      <td>202.000000</td>\n",
       "      <td>NaN</td>\n",
       "      <td>6.200000</td>\n",
       "      <td>NaN</td>\n",
       "      <td>1.000000</td>\n",
       "      <td>NaN</td>\n",
       "    </tr>\n",
       "  </tbody>\n",
       "</table>\n",
       "</div>"
      ],
      "text/plain": [
       "               Age  Sex ChestPainType   RestingBP  Cholesterol   FastingBS  \\\n",
       "count   999.000000  999           999  999.000000   999.000000  999.000000   \n",
       "unique         NaN    2             4         NaN          NaN         NaN   \n",
       "top            NaN    M           ASY         NaN          NaN         NaN   \n",
       "freq           NaN  753           526         NaN          NaN         NaN   \n",
       "mean     54.402402  NaN           NaN  132.408408   238.534104    0.225225   \n",
       "std      10.277816  NaN           NaN   17.866051    55.363127    0.417940   \n",
       "min      28.000000  NaN           NaN   80.000000    85.000000    0.000000   \n",
       "25%      48.000000  NaN           NaN  120.000000   203.497497    0.000000   \n",
       "50%      55.000000  NaN           NaN  130.000000   225.000000    0.000000   \n",
       "75%      61.000000  NaN           NaN  140.000000   269.000000    0.000000   \n",
       "max      95.000000  NaN           NaN  200.000000   603.000000    1.000000   \n",
       "\n",
       "       RestingECG       MaxHR ExerciseAngina     Oldpeak ST_Slope  \\\n",
       "count         999  999.000000            999  999.000000      999   \n",
       "unique          3         NaN              2         NaN        3   \n",
       "top        Normal         NaN              N         NaN     Flat   \n",
       "freq          591         NaN            604         NaN      496   \n",
       "mean          NaN  138.104104            NaN    0.910711      NaN   \n",
       "std           NaN   25.474911            NaN    1.076659      NaN   \n",
       "min           NaN   60.000000            NaN   -2.600000      NaN   \n",
       "25%           NaN  120.000000            NaN    0.000000      NaN   \n",
       "50%           NaN  140.000000            NaN    0.600000      NaN   \n",
       "75%           NaN  158.000000            NaN    1.500000      NaN   \n",
       "max           NaN  202.000000            NaN    6.200000      NaN   \n",
       "\n",
       "        HeartDisease Cholesterol_type  \n",
       "count     999.000000              999  \n",
       "unique           NaN                5  \n",
       "top              NaN        very high  \n",
       "freq             NaN              886  \n",
       "mean        0.542543              NaN  \n",
       "std         0.498436              NaN  \n",
       "min         0.000000              NaN  \n",
       "25%         0.000000              NaN  \n",
       "50%         1.000000              NaN  \n",
       "75%         1.000000              NaN  \n",
       "max         1.000000              NaN  "
      ]
     },
     "execution_count": 322,
     "metadata": {},
     "output_type": "execute_result"
    }
   ],
   "source": [
    "df.describe(include=\"all\")"
   ]
  },
  {
   "cell_type": "markdown",
   "id": "46b38c8f",
   "metadata": {},
   "source": [
    "### Mask Function"
   ]
  },
  {
   "cell_type": "markdown",
   "id": "a37dec0d",
   "metadata": {},
   "source": [
    "#### mask_ChestPainType_HeartDisease"
   ]
  },
  {
   "cell_type": "code",
   "execution_count": 323,
   "id": "dc0355fe",
   "metadata": {},
   "outputs": [
    {
     "data": {
      "text/plain": [
       "37"
      ]
     },
     "execution_count": 323,
     "metadata": {},
     "output_type": "execute_result"
    }
   ],
   "source": [
    "mask_ChestPainType_HeartDisease = (df.ChestPainType == 'ATA') & (df.HeartDisease == 1) \n",
    "\n",
    "df[mask_ChestPainType_HeartDisease].shape[0]"
   ]
  },
  {
   "cell_type": "code",
   "execution_count": 324,
   "id": "89239e1b",
   "metadata": {},
   "outputs": [
    {
     "data": {
      "text/plain": [
       "79"
      ]
     },
     "execution_count": 324,
     "metadata": {},
     "output_type": "execute_result"
    }
   ],
   "source": [
    "mask_ChestPainType_HeartDisease = (df.ChestPainType == 'NAP') & (df.HeartDisease == 1) \n",
    "\n",
    "df[mask_ChestPainType_HeartDisease].shape[0]"
   ]
  },
  {
   "cell_type": "code",
   "execution_count": 325,
   "id": "599cb04c",
   "metadata": {},
   "outputs": [
    {
     "data": {
      "text/plain": [
       "405"
      ]
     },
     "execution_count": 325,
     "metadata": {},
     "output_type": "execute_result"
    }
   ],
   "source": [
    "mask_ChestPainType_HeartDisease = (df.ChestPainType == 'ASY') & (df.HeartDisease == 1) \n",
    "\n",
    "df[mask_ChestPainType_HeartDisease].shape[0]"
   ]
  },
  {
   "cell_type": "code",
   "execution_count": 326,
   "id": "b8bef41a",
   "metadata": {},
   "outputs": [
    {
     "data": {
      "text/plain": [
       "21"
      ]
     },
     "execution_count": 326,
     "metadata": {},
     "output_type": "execute_result"
    }
   ],
   "source": [
    "mask_ChestPainType_HeartDisease = (df.ChestPainType == 'TA') & (df.HeartDisease == 1) \n",
    "\n",
    "df[mask_ChestPainType_HeartDisease].shape[0]"
   ]
  },
  {
   "cell_type": "markdown",
   "id": "5f87d81a",
   "metadata": {},
   "source": [
    "#### mask_Cholesterol_HeartDisease"
   ]
  },
  {
   "cell_type": "code",
   "execution_count": 327,
   "id": "1ea4bf25",
   "metadata": {},
   "outputs": [
    {
     "data": {
      "text/plain": [
       "492"
      ]
     },
     "execution_count": 327,
     "metadata": {},
     "output_type": "execute_result"
    }
   ],
   "source": [
    "mask_Cholesterol_HeartDisease = (df.Cholesterol >= 190) & (df.HeartDisease >= 1) \n",
    "\n",
    "df[mask_Cholesterol_HeartDisease].shape[0]"
   ]
  },
  {
   "cell_type": "markdown",
   "id": "e09556f9",
   "metadata": {},
   "source": [
    "#### mask_ExerciseAngina_HeartDisease"
   ]
  },
  {
   "cell_type": "code",
   "execution_count": 328,
   "id": "7a04a358",
   "metadata": {},
   "outputs": [
    {
     "data": {
      "text/plain": [
       "337"
      ]
     },
     "execution_count": 328,
     "metadata": {},
     "output_type": "execute_result"
    }
   ],
   "source": [
    "mask_ExerciseAngina_HeartDisease = (df.ExerciseAngina == 'Y') & (df.HeartDisease >= 1) \n",
    "\n",
    "df[mask_ExerciseAngina_HeartDisease].shape[0]\n"
   ]
  },
  {
   "cell_type": "markdown",
   "id": "553a2f3e",
   "metadata": {},
   "source": [
    "#### mask_Sex_HeartDisease"
   ]
  },
  {
   "cell_type": "code",
   "execution_count": 329,
   "id": "d7fa77d4",
   "metadata": {},
   "outputs": [
    {
     "data": {
      "text/plain": [
       "469"
      ]
     },
     "execution_count": 329,
     "metadata": {},
     "output_type": "execute_result"
    }
   ],
   "source": [
    "mask_Sex_HeartDisease = (df.Sex == 'M') & (df.HeartDisease == 1) \n",
    "\n",
    "df[mask_Sex_HeartDisease].shape[0]"
   ]
  },
  {
   "cell_type": "markdown",
   "id": "d768f952",
   "metadata": {},
   "source": [
    "#### mask_Age_HeartDisease"
   ]
  },
  {
   "cell_type": "code",
   "execution_count": 330,
   "id": "53e5caaa",
   "metadata": {},
   "outputs": [
    {
     "data": {
      "text/plain": [
       "363"
      ]
     },
     "execution_count": 330,
     "metadata": {},
     "output_type": "execute_result"
    }
   ],
   "source": [
    "mask_Age_HeartDisease = (df.Age >= 54) & (df.HeartDisease >= 1) \n",
    "\n",
    "df[mask_Age_HeartDisease].shape[0]\n"
   ]
  },
  {
   "cell_type": "markdown",
   "id": "0e9a8b0a",
   "metadata": {},
   "source": [
    "#### mask_RestingBP_HeartDisease"
   ]
  },
  {
   "cell_type": "code",
   "execution_count": 331,
   "id": "4fff736d",
   "metadata": {},
   "outputs": [
    {
     "data": {
      "text/plain": [
       "492"
      ]
     },
     "execution_count": 331,
     "metadata": {},
     "output_type": "execute_result"
    }
   ],
   "source": [
    "mask_RestingBP_HeartDisease = (df.RestingBP >= 140) & (df.HeartDisease >= 1) \n",
    "\n",
    "df[mask_Cholesterol_HeartDisease].shape[0]"
   ]
  },
  {
   "cell_type": "markdown",
   "id": "25348378",
   "metadata": {},
   "source": [
    "### Histogram For Cholesterol_type"
   ]
  },
  {
   "cell_type": "code",
   "execution_count": 337,
   "id": "f85a8052",
   "metadata": {},
   "outputs": [
    {
     "data": {
      "image/png": "[encoded data removed]",
      "text/plain": [
       "<Figure size 432x288 with 1 Axes>"
      ]
     },
     "metadata": {},
     "output_type": "display_data"
    }
   ],
   "source": [
    "sns.set_theme(style=\"darkgrid\")\n",
    "ax = sns.countplot(x=df[\"Cholesterol_type\"])"
   ]
  }
 ],
 "metadata": {
  "kernelspec": {
   "display_name": "Python 3",
   "language": "python",
   "name": "python3"
  },
  "language_info": {
   "codemirror_mode": {
    "name": "ipython",
    "version": 3
   },
   "file_extension": ".py",
   "mimetype": "text/x-python",
   "name": "python",
   "nbconvert_exporter": "python",
   "pygments_lexer": "ipython3",
   "version": "3.8.8"
  }
 },
 "nbformat": 4,
 "nbformat_minor": 5
}
